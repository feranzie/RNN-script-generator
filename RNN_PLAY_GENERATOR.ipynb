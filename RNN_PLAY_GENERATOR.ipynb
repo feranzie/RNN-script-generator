{
  "cells": [
    {
      "cell_type": "markdown",
      "metadata": {
        "id": "view-in-github",
        "colab_type": "text"
      },
      "source": [
        "<a href=\"https://colab.research.google.com/github/feranzie/RNN-script-generator/blob/main/RNN_PLAY_GENERATOR.ipynb\" target=\"_parent\"><img src=\"https://colab.research.google.com/assets/colab-badge.svg\" alt=\"Open In Colab\"/></a>"
      ]
    },
    {
      "cell_type": "code",
      "execution_count": 79,
      "metadata": {
        "colab": {
          "base_uri": "https://localhost:8080/"
        },
        "id": "Ri5Fd7nZJuD1",
        "outputId": "463df5e4-89a9-41d2-b88f-76aee4f3dbdb"
      },
      "outputs": [
        {
          "output_type": "stream",
          "name": "stdout",
          "text": [
            "Colab only includes TensorFlow 2.x; %tensorflow_version has no effect.\n"
          ]
        }
      ],
      "source": [
        "%tensorflow_version 2.x  # this line is not required unless you are in a notebook\n",
        "from keras.preprocessing import sequence\n",
        "import keras\n",
        "import tensorflow as tf\n",
        "import os\n",
        "import numpy as np"
      ]
    },
    {
      "cell_type": "code",
      "execution_count": 80,
      "metadata": {
        "id": "tIAw0Qx6K4ww"
      },
      "outputs": [],
      "source": [
        "#download txt data\n",
        "path_to_file = tf.keras.utils.get_file('shakespeare.txt', 'https://storage.googleapis.com/download.tensorflow.org/data/shakespeare.txt')"
      ]
    },
    {
      "cell_type": "code",
      "execution_count": 81,
      "metadata": {
        "colab": {
          "base_uri": "https://localhost:8080/"
        },
        "id": "Db-jMYhxK9Lm",
        "outputId": "0dac99b9-ac02-437f-b450-ce0e2f6c02c4"
      },
      "outputs": [
        {
          "output_type": "stream",
          "name": "stdout",
          "text": [
            "Length of text: 1115394 characters\n"
          ]
        }
      ],
      "source": [
        "# Read, then decode for py2 compat.\n",
        "text = open(path_to_file, 'rb').read().decode(encoding='utf-8')\n",
        "# length of text is the number of characters in it\n",
        "print ('Length of text: {} characters'.format(len(text)))"
      ]
    },
    {
      "cell_type": "markdown",
      "source": [
        "# Encoding & Decoding"
      ],
      "metadata": {
        "id": "BrFJ4kfOZSRl"
      }
    },
    {
      "cell_type": "code",
      "execution_count": 82,
      "metadata": {
        "id": "dJ5wske1LKf7"
      },
      "outputs": [],
      "source": [
        "vocab = sorted(set(text))\n",
        "# Creating a mapping from unique characters to indices\n",
        "char2idx = {u:i for i, u in enumerate(vocab)}\n",
        "idx2char = np.array(vocab)\n",
        "#encode characters with numbers\n",
        "def text_to_int(text):\n",
        "  return np.array([char2idx[c] for c in text])\n",
        "\n",
        "text_as_int = text_to_int(text)"
      ]
    },
    {
      "cell_type": "code",
      "execution_count": 83,
      "metadata": {
        "colab": {
          "base_uri": "https://localhost:8080/"
        },
        "id": "MWmDyiwPLSTx",
        "outputId": "a295f820-caec-4022-d8fe-21b3ded866b5"
      },
      "outputs": [
        {
          "output_type": "stream",
          "name": "stdout",
          "text": [
            "Text: First Citizen\n",
            "Encoded: [18 47 56 57 58  1 15 47 58 47 64 43 52]\n"
          ]
        }
      ],
      "source": [
        "# lets look at how part of our text is encoded\n",
        "print(\"Text:\", text[:13])\n",
        "print(\"Encoded:\", text_to_int(text[:13]))"
      ]
    },
    {
      "cell_type": "code",
      "execution_count": 84,
      "metadata": {
        "colab": {
          "base_uri": "https://localhost:8080/"
        },
        "id": "tDjWlmiPNmlo",
        "outputId": "a7f9872e-6dee-420d-ffe9-3ed17e17a34b"
      },
      "outputs": [
        {
          "output_type": "stream",
          "name": "stdout",
          "text": [
            "First Citizen\n"
          ]
        }
      ],
      "source": [
        "#decodes encoded numbers to text\n",
        "def int_to_text(ints):\n",
        "  try:\n",
        "    ints = ints.numpy()\n",
        "  except:\n",
        "    pass\n",
        "    #turn array of characters to a word\n",
        "  return ''.join(idx2char[ints])\n",
        "\n",
        "print(int_to_text(text_as_int[:13]))"
      ]
    },
    {
      "cell_type": "markdown",
      "source": [
        "# Training Example"
      ],
      "metadata": {
        "id": "OB1a2269ZZk4"
      }
    },
    {
      "cell_type": "code",
      "execution_count": 85,
      "metadata": {
        "id": "E822Y2mKOMm1"
      },
      "outputs": [],
      "source": [
        "seq_length = 100  # length of sequence for a training example\n",
        "#+1 is here since we have a sequence of 100 for both inputs and outputs and were dropping last letter of a word e.g Hell and output is dropping first letter and predicting last letterello \n",
        "#hence if input is 100 to make room for lastletter or character been added to end of ouput we add +1\n",
        "examples_per_epoch = len(text)//(seq_length+1)\n",
        "\n",
        "# Create training examples / targets\n",
        "#slices text into streams of characters in this case 1.1 million characters *check len(text)\n",
        "char_dataset = tf.data.Dataset.from_tensor_slices(text_as_int)"
      ]
    },
    {
      "cell_type": "code",
      "execution_count": 86,
      "metadata": {
        "colab": {
          "base_uri": "https://localhost:8080/"
        },
        "id": "gd7g0fURQWgd",
        "outputId": "30456690-0856-4811-ede0-220b952baa0c"
      },
      "outputs": [
        {
          "output_type": "execute_result",
          "data": {
            "text/plain": [
              "<TensorSliceDataset element_spec=TensorSpec(shape=(), dtype=tf.int64, name=None)>"
            ]
          },
          "metadata": {},
          "execution_count": 86
        }
      ],
      "source": [
        "char_dataset\n"
      ]
    },
    {
      "cell_type": "code",
      "execution_count": 87,
      "metadata": {
        "id": "ABWSoIVZSJt7"
      },
      "outputs": [],
      "source": [
        "#splits characters into batches of 101 words and drop remaining\n",
        "sequences = char_dataset.batch(seq_length+1, drop_remainder=True)"
      ]
    },
    {
      "cell_type": "code",
      "execution_count": 88,
      "metadata": {
        "id": "hjF1dJydSVsJ"
      },
      "outputs": [],
      "source": [
        "def split_input_target(chunk):  # for the example: hello\n",
        "    input_text = chunk[:-1]  # hell\n",
        "    target_text = chunk[1:]  # ello\n",
        "    return input_text, target_text  # hell, ello\n",
        "#perform above fuction to delete last letter from input text and delete first letter from target_text\n",
        "dataset = sequences.map(split_input_target)  # we use map to apply the above function to every entry"
      ]
    },
    {
      "cell_type": "code",
      "execution_count": 89,
      "metadata": {
        "colab": {
          "base_uri": "https://localhost:8080/"
        },
        "id": "jaCby5v6SXVA",
        "outputId": "9cc6e860-61e0-4312-9d92-5e3156df496a"
      },
      "outputs": [
        {
          "output_type": "stream",
          "name": "stdout",
          "text": [
            "\n",
            "\n",
            "EXAMPLE\n",
            "\n",
            "INPUT\n",
            "First Citizen:\n",
            "Before we proceed any further, hear me speak.\n",
            "\n",
            "All:\n",
            "Speak, speak.\n",
            "\n",
            "First Citizen:\n",
            "You\n",
            "\n",
            "OUTPUT\n",
            "irst Citizen:\n",
            "Before we proceed any further, hear me speak.\n",
            "\n",
            "All:\n",
            "Speak, speak.\n",
            "\n",
            "First Citizen:\n",
            "You \n",
            "\n",
            "\n",
            "EXAMPLE\n",
            "\n",
            "INPUT\n",
            "are all resolved rather to die than to famish?\n",
            "\n",
            "All:\n",
            "Resolved. resolved.\n",
            "\n",
            "First Citizen:\n",
            "First, you \n",
            "\n",
            "OUTPUT\n",
            "re all resolved rather to die than to famish?\n",
            "\n",
            "All:\n",
            "Resolved. resolved.\n",
            "\n",
            "First Citizen:\n",
            "First, you k\n",
            "\n",
            "\n",
            "EXAMPLE\n",
            "\n",
            "INPUT\n",
            "now Caius Marcius is chief enemy to the people.\n",
            "\n",
            "All:\n",
            "We know't, we know't.\n",
            "\n",
            "First Citizen:\n",
            "Let us k\n",
            "\n",
            "OUTPUT\n",
            "ow Caius Marcius is chief enemy to the people.\n",
            "\n",
            "All:\n",
            "We know't, we know't.\n",
            "\n",
            "First Citizen:\n",
            "Let us ki\n"
          ]
        }
      ],
      "source": [
        "#each input set and outtput set is 100 from sequence we set earlier\n",
        "#were trying to see how what input sets and output sets look like for 3 sets\n",
        "for x, y in dataset.take(3):\n",
        "  print(\"\\n\\nEXAMPLE\\n\")\n",
        "  print(\"INPUT\")\n",
        "  print(int_to_text(x))\n",
        "  print(\"\\nOUTPUT\")\n",
        "  print(int_to_text(y))\n"
      ]
    },
    {
      "cell_type": "code",
      "execution_count": 90,
      "metadata": {
        "id": "xd7LJc7oTRPo"
      },
      "outputs": [],
      "source": [
        "BATCH_SIZE = 64\n",
        "VOCAB_SIZE = len(vocab)  # vocab is number of unique characters\n",
        "EMBEDDING_DIM = 256\n",
        "RNN_UNITS = 1024\n",
        "\n",
        "# Buffer size to shuffle the dataset\n",
        "# (TF data is designed to work with possibly infinite sequences,\n",
        "# so it doesn't attempt to shuffle the entire sequence in memory. Instead,\n",
        "# it maintains a buffer in which it shuffles elements).\n",
        "BUFFER_SIZE = 10000\n",
        "\n",
        "data = dataset.shuffle(BUFFER_SIZE).batch(BATCH_SIZE, drop_remainder=True)"
      ]
    },
    {
      "cell_type": "code",
      "source": [
        ""
      ],
      "metadata": {
        "id": "10lwfiG0X2mY"
      },
      "execution_count": 90,
      "outputs": []
    },
    {
      "cell_type": "markdown",
      "source": [
        "# Build model\n"
      ],
      "metadata": {
        "id": "TG6byI6KZwIs"
      }
    },
    {
      "cell_type": "code",
      "execution_count": 91,
      "metadata": {
        "colab": {
          "base_uri": "https://localhost:8080/"
        },
        "id": "R7OTub6XThu5",
        "outputId": "163ee4a8-011f-4162-d5c2-c4171da8a384"
      },
      "outputs": [
        {
          "output_type": "stream",
          "name": "stdout",
          "text": [
            "Model: \"sequential_3\"\n",
            "_________________________________________________________________\n",
            " Layer (type)                Output Shape              Param #   \n",
            "=================================================================\n",
            " embedding_3 (Embedding)     (64, None, 256)           16640     \n",
            "                                                                 \n",
            " lstm_3 (LSTM)               (64, None, 1024)          5246976   \n",
            "                                                                 \n",
            " dense_3 (Dense)             (64, None, 65)            66625     \n",
            "                                                                 \n",
            "=================================================================\n",
            "Total params: 5,330,241\n",
            "Trainable params: 5,330,241\n",
            "Non-trainable params: 0\n",
            "_________________________________________________________________\n"
          ]
        }
      ],
      "source": [
        "#build model\n",
        "def build_model(vocab_size, embedding_dim, rnn_units, batch_size):\n",
        "  model = tf.keras.Sequential([\n",
        "    tf.keras.layers.Embedding(vocab_size, embedding_dim,\n",
        "                              batch_input_shape=[batch_size, None]),\n",
        "    tf.keras.layers.LSTM(rnn_units,\n",
        "                        return_sequences=True,\n",
        "                        stateful=True,\n",
        "                        recurrent_initializer='glorot_uniform'),\n",
        "    tf.keras.layers.Dense(vocab_size)\n",
        "  ])\n",
        "  return model\n",
        "\n",
        "model = build_model(VOCAB_SIZE,EMBEDDING_DIM, RNN_UNITS, BATCH_SIZE)\n",
        "model.summary()"
      ]
    },
    {
      "cell_type": "markdown",
      "source": [
        "# Testing prediction output  for specific input"
      ],
      "metadata": {
        "id": "Nr882thSaJyl"
      }
    },
    {
      "cell_type": "code",
      "execution_count": 95,
      "metadata": {
        "id": "kdU4aWIjTtlM",
        "colab": {
          "base_uri": "https://localhost:8080/"
        },
        "outputId": "800a0992-4ac9-4f77-98d3-22ba5a0e8242"
      },
      "outputs": [
        {
          "output_type": "stream",
          "name": "stdout",
          "text": [
            "(64, 100, 65) # (batch_size, sequence_length, vocab_size)\n"
          ]
        }
      ],
      "source": [
        "for input_example_batch, target_example_batch in data.take(1):\n",
        "  example_batch_predictions = model(input_example_batch)  # ask our model for a prediction on our first batch of training data (64 entries)\n",
        "  print(example_batch_predictions.shape, \"# (batch_size, sequence_length, vocab_size)\")  # print out the output shape"
      ]
    },
    {
      "cell_type": "code",
      "execution_count": 96,
      "metadata": {
        "colab": {
          "base_uri": "https://localhost:8080/"
        },
        "id": "c8fosf3m7qFt",
        "outputId": "003f048b-9a0f-46ec-deae-deab9762083a"
      },
      "outputs": [
        {
          "output_type": "stream",
          "name": "stdout",
          "text": [
            "64\n",
            "tf.Tensor(\n",
            "[[[-3.16558918e-03 -6.82592997e-03 -4.69417358e-03 ...  3.06074088e-03\n",
            "    6.51968701e-04 -6.04538899e-03]\n",
            "  [ 7.34083820e-04 -7.60643161e-04 -1.59248640e-03 ...  6.23427238e-03\n",
            "    3.18496046e-03 -2.88132206e-03]\n",
            "  [-6.68469770e-03 -7.74360774e-03  3.55181540e-03 ...  2.64929864e-03\n",
            "    1.09571293e-02 -1.01597989e-02]\n",
            "  ...\n",
            "  [-9.32968222e-03 -1.41425384e-03  3.39564076e-03 ...  5.50788827e-04\n",
            "   -1.49654057e-02  5.11864061e-03]\n",
            "  [-9.18117911e-03 -4.84004058e-03  1.97905255e-03 ... -5.58256265e-03\n",
            "   -1.48872407e-02  6.86002523e-03]\n",
            "  [-8.27649515e-03 -6.00500079e-03  7.25320482e-04 ... -8.56997911e-03\n",
            "   -1.22804455e-02  1.25783877e-02]]\n",
            "\n",
            " [[-3.19438823e-03 -6.18128851e-03  1.96089735e-03 ... -5.61899913e-04\n",
            "   -7.46111711e-03 -1.40070484e-03]\n",
            "  [-5.42336842e-04 -7.63581926e-03  3.46666202e-05 ... -4.19596676e-03\n",
            "   -9.73248389e-03 -7.17152515e-03]\n",
            "  [-3.43859755e-03 -6.91180257e-03  5.09509305e-03 ... -5.77628566e-03\n",
            "   -7.75142480e-03  5.98224578e-05]\n",
            "  ...\n",
            "  [-3.88077507e-03 -1.08579709e-03  6.77681435e-03 ... -3.43141612e-03\n",
            "   -9.91864968e-03  9.39286966e-03]\n",
            "  [-4.64893458e-03  3.39094177e-03 -1.55753165e-04 ... -1.55221380e-03\n",
            "   -6.20616833e-03  9.88443568e-03]\n",
            "  [-8.24829098e-04  4.42919787e-03 -5.08909253e-03 ...  9.92665882e-04\n",
            "   -8.15897901e-03  1.94251875e-03]]\n",
            "\n",
            " [[-3.19438823e-03 -6.18128851e-03  1.96089735e-03 ... -5.61899913e-04\n",
            "   -7.46111711e-03 -1.40070484e-03]\n",
            "  [ 7.63713848e-03 -1.40719069e-03  5.10402163e-03 ... -2.38783122e-03\n",
            "   -8.27893987e-03 -3.27060232e-03]\n",
            "  [-8.30793753e-04 -6.76616281e-03  9.53457970e-03 ... -3.44425812e-03\n",
            "    2.49544065e-03 -9.34933126e-03]\n",
            "  ...\n",
            "  [ 1.20919896e-04 -2.75059789e-03  6.74953498e-03 ... -8.10180150e-04\n",
            "   -7.33109144e-03  3.79454368e-03]\n",
            "  [ 5.16464747e-03 -3.95148108e-03  5.03513403e-03 ...  3.38953570e-03\n",
            "   -4.56196768e-03  6.12061843e-03]\n",
            "  [ 9.24240611e-03 -4.63202503e-03  2.80077942e-03 ...  4.81050415e-03\n",
            "   -1.98119995e-03  8.02460033e-03]]\n",
            "\n",
            " ...\n",
            "\n",
            " [[-2.91497516e-03  4.49213153e-03 -5.03686396e-03 ...  1.08483154e-03\n",
            "    5.01506496e-04  2.80078757e-03]\n",
            "  [-8.73063877e-03 -2.01715343e-03  1.36311958e-03 ... -1.18084555e-03\n",
            "    8.90201982e-03 -4.60308883e-03]\n",
            "  [-9.28345136e-03 -2.57893722e-03  4.97485930e-03 ... -4.25666990e-03\n",
            "    7.50115467e-03  2.28662021e-03]\n",
            "  ...\n",
            "  [-5.39490813e-03 -4.65705479e-03  1.08989812e-02 ... -4.25306056e-03\n",
            "   -1.22543173e-02  5.10588009e-03]\n",
            "  [-8.27672519e-03 -4.76451311e-03  1.30334701e-02 ... -5.23494463e-03\n",
            "   -8.18098150e-03  9.20399744e-03]\n",
            "  [-1.34720467e-02 -9.90961865e-03  1.58935338e-02 ... -4.49510338e-03\n",
            "    2.45106127e-03 -5.63791720e-04]]\n",
            "\n",
            " [[ 9.68168024e-03  3.26888263e-03  3.42962774e-03 ... -1.29560498e-03\n",
            "   -2.57828692e-03 -2.57342448e-03]\n",
            "  [ 8.98833200e-03 -3.41979554e-04  1.54952472e-03 ... -3.66151519e-03\n",
            "   -5.70567884e-03 -7.87788350e-03]\n",
            "  [ 4.04651463e-03  4.43363748e-03 -2.26610666e-03 ... -8.29595025e-04\n",
            "   -4.35539661e-03 -2.49761483e-03]\n",
            "  ...\n",
            "  [-5.25396084e-04  5.92751568e-03  3.70387663e-03 ... -2.52633588e-03\n",
            "   -4.85856365e-03  9.70874727e-03]\n",
            "  [-3.59831052e-03  3.12066777e-03  1.05994008e-03 ...  3.59228579e-04\n",
            "   -5.82600618e-03  1.27617409e-02]\n",
            "  [-1.12087675e-03  5.01064910e-03 -1.14617660e-03 ...  4.38605202e-04\n",
            "   -4.73021530e-03  1.43349916e-02]]\n",
            "\n",
            " [[-2.05098349e-03 -5.50440513e-04  6.48082606e-03 ...  1.30874920e-03\n",
            "   -2.16971850e-03  6.97979471e-04]\n",
            "  [-1.28253363e-03 -1.15976634e-03  7.88171310e-03 ...  2.08990648e-04\n",
            "   -6.94903918e-03  1.85898063e-03]\n",
            "  [-7.18378928e-04 -8.77757848e-04  7.88916834e-03 ... -2.30633002e-03\n",
            "   -7.43229780e-03 -4.38259216e-04]\n",
            "  ...\n",
            "  [-9.70932841e-03  3.87154799e-03  1.11533310e-02 ... -5.46685839e-03\n",
            "    2.26882542e-03  3.24672484e-03]\n",
            "  [-1.13319298e-02 -3.16602341e-03  4.17230930e-03 ... -1.11228530e-03\n",
            "    3.17553012e-03 -3.78361577e-03]\n",
            "  [-1.19572198e-02  2.75763241e-03 -1.16216880e-03 ...  1.20891153e-03\n",
            "    3.78364278e-03  4.98956651e-04]]], shape=(64, 100, 65), dtype=float32)\n"
          ]
        }
      ],
      "source": [
        "# we can see that the predicition is an array of 64 arrays, one for each entry in the batch\n",
        "print(len(example_batch_predictions))\n",
        "print(example_batch_predictions)"
      ]
    },
    {
      "cell_type": "code",
      "execution_count": 97,
      "metadata": {
        "colab": {
          "base_uri": "https://localhost:8080/"
        },
        "id": "QkXFjvFDhLP6",
        "outputId": "a57921a0-b551-47bc-a282-a554b5520123"
      },
      "outputs": [
        {
          "output_type": "stream",
          "name": "stdout",
          "text": [
            "100\n",
            "tf.Tensor(\n",
            "[[-0.00316559 -0.00682593 -0.00469417 ...  0.00306074  0.00065197\n",
            "  -0.00604539]\n",
            " [ 0.00073408 -0.00076064 -0.00159249 ...  0.00623427  0.00318496\n",
            "  -0.00288132]\n",
            " [-0.0066847  -0.00774361  0.00355182 ...  0.0026493   0.01095713\n",
            "  -0.0101598 ]\n",
            " ...\n",
            " [-0.00932968 -0.00141425  0.00339564 ...  0.00055079 -0.01496541\n",
            "   0.00511864]\n",
            " [-0.00918118 -0.00484004  0.00197905 ... -0.00558256 -0.01488724\n",
            "   0.00686003]\n",
            " [-0.0082765  -0.006005    0.00072532 ... -0.00856998 -0.01228045\n",
            "   0.01257839]], shape=(100, 65), dtype=float32)\n"
          ]
        }
      ],
      "source": [
        "# lets examine one prediction\n",
        "pred = example_batch_predictions[0]\n",
        "print(len(pred))\n",
        "print(pred)\n",
        "# notice this is a 2d array of length 100, where each interior array is the prediction for the next character at each time step"
      ]
    },
    {
      "cell_type": "code",
      "execution_count": 98,
      "metadata": {
        "colab": {
          "base_uri": "https://localhost:8080/"
        },
        "id": "8LqHQFJMhOxb",
        "outputId": "e42ab654-9fbc-4802-e982-59004a17e585"
      },
      "outputs": [
        {
          "output_type": "stream",
          "name": "stdout",
          "text": [
            "65\n",
            "tf.Tensor(\n",
            "[-0.00316559 -0.00682593 -0.00469417 -0.00083912 -0.00335781  0.00330693\n",
            " -0.00065697 -0.00144205  0.00375655  0.00554464 -0.00660874  0.00403293\n",
            " -0.00569704  0.0037281  -0.00622446 -0.00160995  0.00307979  0.00299281\n",
            "  0.00780211  0.00630144 -0.00601348  0.0014077   0.00386529  0.00623795\n",
            " -0.00085527 -0.00577341  0.0027416   0.00282463 -0.00897866 -0.00014697\n",
            "  0.00472694 -0.00993719 -0.00158849 -0.00157537 -0.00238053  0.00077021\n",
            " -0.00511616 -0.0058402   0.00986343 -0.00222157 -0.00394132 -0.0036018\n",
            "  0.00264283 -0.00316038  0.00414871 -0.01009093  0.00243318  0.00065907\n",
            " -0.0020988   0.00276029 -0.00387131 -0.00047051  0.0018606  -0.00248282\n",
            " -0.00055158 -0.0043747   0.00059106  0.00245873  0.00226678 -0.0001444\n",
            " -0.00337273 -0.00247454  0.00306074  0.00065197 -0.00604539], shape=(65,), dtype=float32)\n"
          ]
        }
      ],
      "source": [
        "# and finally well look at a prediction at the first timestep\n",
        "time_pred = pred[0]\n",
        "print(len(time_pred))\n",
        "print(time_pred)\n",
        "# and of course its 65 values representing the probabillity of each character occuring next"
      ]
    },
    {
      "cell_type": "markdown",
      "source": [
        "the output has a shape of (64,100,65)\n",
        "meaning 64 batches, 100 output characters,65 predictions of what the output text is supposed to be they are then sampled and one of the 65 is chosen as each character of the 100 output characters."
      ],
      "metadata": {
        "id": "Jhf7ssoGatOS"
      }
    },
    {
      "cell_type": "code",
      "execution_count": 99,
      "metadata": {
        "id": "7pNcb-sn13Or",
        "colab": {
          "base_uri": "https://localhost:8080/",
          "height": 36
        },
        "outputId": "59eed442-25e6-4d9d-9f0b-667c55df4571"
      },
      "outputs": [
        {
          "output_type": "execute_result",
          "data": {
            "text/plain": [
              "\"xCICZncWRguslDi&E'hT.QpGj\\naDIbaTIFYXBz:yoxeDX'syElmp3WvNt o:Aotcyj,q,v,-D\\nNhAYqV,juzg&N3-&th;vAFLpTs\""
            ],
            "application/vnd.google.colaboratory.intrinsic+json": {
              "type": "string"
            }
          },
          "metadata": {},
          "execution_count": 99
        }
      ],
      "source": [
        "# If we want to determine the predicted character we need to sample the output distribution (pick a value based on probabillity)\n",
        "sampled_indices = tf.random.categorical(pred, num_samples=1)\n",
        "\n",
        "# now we can reshape that array and convert all the integers to numbers to see the actual characters\n",
        "sampled_indices = np.reshape(sampled_indices, (1, -1))[0]\n",
        "predicted_chars = int_to_text(sampled_indices)\n",
        "\n",
        "predicted_chars  # and this is what the model predicted for training sequence 1"
      ]
    },
    {
      "cell_type": "markdown",
      "source": [
        "# Create Loss function"
      ],
      "metadata": {
        "id": "OQEgT4kSbkXs"
      }
    },
    {
      "cell_type": "code",
      "source": [
        "def loss(labels, logits):\n",
        "  return tf.keras.losses.sparse_categorical_crossentropy(labels, logits, from_logits=True)"
      ],
      "metadata": {
        "id": "soUFmE1Hap-T"
      },
      "execution_count": 100,
      "outputs": []
    },
    {
      "cell_type": "markdown",
      "source": [
        "# Compile model\n",
        "At this point we can think of our problem as a classification problem where the model predicts the probabillity of each unique letter coming next."
      ],
      "metadata": {
        "id": "tfgUIIwwdItf"
      }
    },
    {
      "cell_type": "code",
      "source": [
        "model.compile(optimizer='adam', loss=loss)"
      ],
      "metadata": {
        "id": "5zYPU206dFRH"
      },
      "execution_count": 101,
      "outputs": []
    },
    {
      "cell_type": "markdown",
      "source": [
        "# Creating Checkpoints\n",
        "Now we are going to setup and configure our model to save checkpoinst as it trains. This will allow us to load our model from a checkpoint and continue training it.\n",
        "\n"
      ],
      "metadata": {
        "id": "ybB-kkgvdlHe"
      }
    },
    {
      "cell_type": "code",
      "source": [
        "# Directory where the checkpoints will be saved\n",
        "checkpoint_dir = './training_checkpoints'\n",
        "# Name of the checkpoint files\n",
        "checkpoint_prefix = os.path.join(checkpoint_dir, \"ckpt_{epoch}\")\n",
        "\n",
        "checkpoint_callback=tf.keras.callbacks.ModelCheckpoint(\n",
        "    filepath=checkpoint_prefix,\n",
        "    save_weights_only=True)"
      ],
      "metadata": {
        "id": "lj4gWQ2fdGlC"
      },
      "execution_count": 102,
      "outputs": []
    },
    {
      "cell_type": "markdown",
      "source": [
        "# Training model"
      ],
      "metadata": {
        "id": "oLi59dHWdysB"
      }
    },
    {
      "cell_type": "code",
      "metadata": {
        "colab": {
          "base_uri": "https://localhost:8080/"
        },
        "id": "a1HWt4CRdv-u",
        "outputId": "aa5e73f4-6279-4a29-a69b-2aafa5d2d878"
      },
      "source": [
        "history = model.fit(data, epochs=10, callbacks=[checkpoint_callback])"
      ],
      "execution_count": 105,
      "outputs": [
        {
          "output_type": "stream",
          "name": "stdout",
          "text": [
            "Epoch 1/10\n",
            "172/172 [==============================] - 14s 73ms/step - loss: 1.1647\n",
            "Epoch 2/10\n",
            "172/172 [==============================] - 14s 75ms/step - loss: 1.1274\n",
            "Epoch 3/10\n",
            "172/172 [==============================] - 14s 73ms/step - loss: 1.0888\n",
            "Epoch 4/10\n",
            "172/172 [==============================] - 14s 72ms/step - loss: 1.0498\n",
            "Epoch 5/10\n",
            "172/172 [==============================] - 13s 72ms/step - loss: 1.0093\n",
            "Epoch 6/10\n",
            "172/172 [==============================] - 13s 71ms/step - loss: 0.9679\n",
            "Epoch 7/10\n",
            "172/172 [==============================] - 14s 73ms/step - loss: 0.9268\n",
            "Epoch 8/10\n",
            "172/172 [==============================] - 14s 73ms/step - loss: 0.8866\n",
            "Epoch 9/10\n",
            "172/172 [==============================] - 14s 72ms/step - loss: 0.8457\n",
            "Epoch 10/10\n",
            "172/172 [==============================] - 13s 71ms/step - loss: 0.8085\n"
          ]
        }
      ]
    },
    {
      "cell_type": "markdown",
      "source": [
        "# Loading the Model\n",
        "We'll rebuild the model from a checkpoint using a batch_size of 1 so that we can feed one peice of text to the model and have it make a prediction."
      ],
      "metadata": {
        "id": "m3GiYxE5d9EJ"
      }
    },
    {
      "cell_type": "code",
      "metadata": {
        "id": "R4PAgrwMjZ4_"
      },
      "source": [
        "model = build_model(VOCAB_SIZE, EMBEDDING_DIM, RNN_UNITS, batch_size=1)"
      ],
      "execution_count": 106,
      "outputs": []
    },
    {
      "cell_type": "markdown",
      "source": [
        "Once the model is finished training, we can find the lastest checkpoint that stores the models weights using the following line."
      ],
      "metadata": {
        "id": "tO51WHK5eJCG"
      }
    },
    {
      "cell_type": "code",
      "metadata": {
        "id": "y31daRzAduto"
      },
      "source": [
        "model.load_weights(tf.train.latest_checkpoint(checkpoint_dir))\n",
        "model.build(tf.TensorShape([1, None]))"
      ],
      "execution_count": 107,
      "outputs": []
    },
    {
      "cell_type": "markdown",
      "source": [
        "We can load any checkpoint we want by specifying the exact file to load."
      ],
      "metadata": {
        "id": "RN2_yX7oeaaT"
      }
    },
    {
      "cell_type": "code",
      "metadata": {
        "colab": {
          "base_uri": "https://localhost:8080/",
          "height": 328
        },
        "id": "FNgIDBDQdu6b",
        "outputId": "c930200a-d1a8-4116-e84d-3ca993c5655d"
      },
      "source": [
        "checkpoint_num = 10\n",
        "model.load_weights(tf.train.load_checkpoint(\"./training_checkpoints/ckpt_\" + str(checkpoint_num)))\n",
        "model.build(tf.TensorShape([1, None]))"
      ],
      "execution_count": 111,
      "outputs": [
        {
          "output_type": "error",
          "ename": "AttributeError",
          "evalue": "ignored",
          "traceback": [
            "\u001b[0;31m---------------------------------------------------------------------------\u001b[0m",
            "\u001b[0;31mAttributeError\u001b[0m                            Traceback (most recent call last)",
            "\u001b[0;32m<ipython-input-111-97614ead033d>\u001b[0m in \u001b[0;36m<module>\u001b[0;34m()\u001b[0m\n\u001b[1;32m      1\u001b[0m \u001b[0mcheckpoint_num\u001b[0m \u001b[0;34m=\u001b[0m \u001b[0;36m10\u001b[0m\u001b[0;34m\u001b[0m\u001b[0;34m\u001b[0m\u001b[0m\n\u001b[0;32m----> 2\u001b[0;31m \u001b[0mmodel\u001b[0m\u001b[0;34m.\u001b[0m\u001b[0mload_weights\u001b[0m\u001b[0;34m(\u001b[0m\u001b[0mtf\u001b[0m\u001b[0;34m.\u001b[0m\u001b[0mtrain\u001b[0m\u001b[0;34m.\u001b[0m\u001b[0mload_checkpoint\u001b[0m\u001b[0;34m(\u001b[0m\u001b[0;34m\"./training_checkpoints/ckpt_\"\u001b[0m \u001b[0;34m+\u001b[0m \u001b[0mstr\u001b[0m\u001b[0;34m(\u001b[0m\u001b[0mcheckpoint_num\u001b[0m\u001b[0;34m)\u001b[0m\u001b[0;34m)\u001b[0m\u001b[0;34m)\u001b[0m\u001b[0;34m\u001b[0m\u001b[0;34m\u001b[0m\u001b[0m\n\u001b[0m\u001b[1;32m      3\u001b[0m \u001b[0mmodel\u001b[0m\u001b[0;34m.\u001b[0m\u001b[0mbuild\u001b[0m\u001b[0;34m(\u001b[0m\u001b[0mtf\u001b[0m\u001b[0;34m.\u001b[0m\u001b[0mTensorShape\u001b[0m\u001b[0;34m(\u001b[0m\u001b[0;34m[\u001b[0m\u001b[0;36m1\u001b[0m\u001b[0;34m,\u001b[0m \u001b[0;32mNone\u001b[0m\u001b[0;34m]\u001b[0m\u001b[0;34m)\u001b[0m\u001b[0;34m)\u001b[0m\u001b[0;34m\u001b[0m\u001b[0;34m\u001b[0m\u001b[0m\n",
            "\u001b[0;32m/usr/local/lib/python3.7/dist-packages/keras/utils/traceback_utils.py\u001b[0m in \u001b[0;36merror_handler\u001b[0;34m(*args, **kwargs)\u001b[0m\n\u001b[1;32m     65\u001b[0m     \u001b[0;32mexcept\u001b[0m \u001b[0mException\u001b[0m \u001b[0;32mas\u001b[0m \u001b[0me\u001b[0m\u001b[0;34m:\u001b[0m  \u001b[0;31m# pylint: disable=broad-except\u001b[0m\u001b[0;34m\u001b[0m\u001b[0;34m\u001b[0m\u001b[0m\n\u001b[1;32m     66\u001b[0m       \u001b[0mfiltered_tb\u001b[0m \u001b[0;34m=\u001b[0m \u001b[0m_process_traceback_frames\u001b[0m\u001b[0;34m(\u001b[0m\u001b[0me\u001b[0m\u001b[0;34m.\u001b[0m\u001b[0m__traceback__\u001b[0m\u001b[0;34m)\u001b[0m\u001b[0;34m\u001b[0m\u001b[0;34m\u001b[0m\u001b[0m\n\u001b[0;32m---> 67\u001b[0;31m       \u001b[0;32mraise\u001b[0m \u001b[0me\u001b[0m\u001b[0;34m.\u001b[0m\u001b[0mwith_traceback\u001b[0m\u001b[0;34m(\u001b[0m\u001b[0mfiltered_tb\u001b[0m\u001b[0;34m)\u001b[0m \u001b[0;32mfrom\u001b[0m \u001b[0;32mNone\u001b[0m\u001b[0;34m\u001b[0m\u001b[0;34m\u001b[0m\u001b[0m\n\u001b[0m\u001b[1;32m     68\u001b[0m     \u001b[0;32mfinally\u001b[0m\u001b[0;34m:\u001b[0m\u001b[0;34m\u001b[0m\u001b[0;34m\u001b[0m\u001b[0m\n\u001b[1;32m     69\u001b[0m       \u001b[0;32mdel\u001b[0m \u001b[0mfiltered_tb\u001b[0m\u001b[0;34m\u001b[0m\u001b[0;34m\u001b[0m\u001b[0m\n",
            "\u001b[0;32m/usr/local/lib/python3.7/dist-packages/keras/saving/saving_utils.py\u001b[0m in \u001b[0;36mis_hdf5_filepath\u001b[0;34m(filepath)\u001b[0m\n\u001b[1;32m    333\u001b[0m \u001b[0;34m\u001b[0m\u001b[0m\n\u001b[1;32m    334\u001b[0m \u001b[0;32mdef\u001b[0m \u001b[0mis_hdf5_filepath\u001b[0m\u001b[0;34m(\u001b[0m\u001b[0mfilepath\u001b[0m\u001b[0;34m)\u001b[0m\u001b[0;34m:\u001b[0m\u001b[0;34m\u001b[0m\u001b[0;34m\u001b[0m\u001b[0m\n\u001b[0;32m--> 335\u001b[0;31m   return (filepath.endswith('.h5') or filepath.endswith('.keras') or\n\u001b[0m\u001b[1;32m    336\u001b[0m           filepath.endswith('.hdf5'))\n",
            "\u001b[0;31mAttributeError\u001b[0m: 'tensorflow.python.util._pywrap_checkpoint_reader.C' object has no attribute 'endswith'"
          ]
        }
      ]
    },
    {
      "cell_type": "markdown",
      "source": [
        "\n",
        "# Generating Text\n",
        "Now we can use the lovely function provided by tensorflow to generate some text using any starting string we'd like."
      ],
      "metadata": {
        "id": "uTs8qWX0eiqo"
      }
    },
    {
      "cell_type": "code",
      "metadata": {
        "id": "ZMQmB7f9du_Q"
      },
      "source": [
        "def generate_text(model, start_string):\n",
        "  # Evaluation step (generating text using the learned model)\n",
        "\n",
        "  # Number of characters to generate\n",
        "  num_generate = 800\n",
        "\n",
        "  # Converting our start string to numbers (vectorizing)\n",
        "  input_eval = [char2idx[s] for s in start_string]\n",
        "  input_eval = tf.expand_dims(input_eval, 0)\n",
        "\n",
        "  # Empty string to store our results\n",
        "  text_generated = []\n",
        "\n",
        "  # Low temperatures results in more predictable text.\n",
        "  # Higher temperatures results in more surprising text.\n",
        "  # Experiment to find the best setting.\n",
        "  temperature = 1.0\n",
        "\n",
        "  # Here batch size == 1\n",
        "  model.reset_states()\n",
        "  for i in range(num_generate):\n",
        "      predictions = model(input_eval)\n",
        "      # remove the batch dimension\n",
        "    \n",
        "      predictions = tf.squeeze(predictions, 0)\n",
        "\n",
        "      # using a categorical distribution to predict the character returned by the model\n",
        "      predictions = predictions / temperature\n",
        "      predicted_id = tf.random.categorical(predictions, num_samples=1)[-1,0].numpy()\n",
        "\n",
        "      # We pass the predicted character as the next input to the model\n",
        "      # along with the previous hidden state\n",
        "      input_eval = tf.expand_dims([predicted_id], 0)\n",
        "\n",
        "      text_generated.append(idx2char[predicted_id])\n",
        "\n",
        "  return (start_string + ''.join(text_generated))"
      ],
      "execution_count": 109,
      "outputs": []
    },
    {
      "cell_type": "code",
      "metadata": {
        "colab": {
          "base_uri": "https://localhost:8080/"
        },
        "id": "cYAMNYLedvCS",
        "outputId": "35c326af-cf71-4f25-d906-bc7e8e416e7e"
      },
      "source": [
        "inp = input(\"Type a starting string: \")\n",
        "print(generate_text(model, inp))"
      ],
      "execution_count": 110,
      "outputs": [
        {
          "output_type": "stream",
          "name": "stdout",
          "text": [
            "Type a starting string: love is war\n",
            "love is wary of shine terrors.\n",
            "\n",
            "WARWICK:\n",
            "O hou! Valt, one work, parting in\n",
            "the subdues of your name, I beseech you.\n",
            "Come, Camillo, an what little sort to Bohemia,\n",
            "Since I am limit to my father was mine own\n",
            "A thousand duch, which thou threat'st our country pray.\n",
            "There's some showers, love, with hand and how much\n",
            "her luck war, in the hollow grow of a man.\n",
            "\n",
            "BIONUED:\n",
            "There's no more said when that's made fair rash. This is an irother's gald,\n",
            "That instige thy thousand King of Henry, revenge,\n",
            "Too dear account the men, she is lefthe way.\n",
            "I'll know the mins have gatest.\n",
            "\n",
            "ARIEL:\n",
            "My lord!\n",
            "\n",
            "KING HENRY VI:\n",
            "And let us hear her speak a'l goodly to him,\n",
            "And rest to prison, of the queen and his blisson. I dare not offence\n",
            "That woe requite awhile,\n",
            "It shall be soleth time have lent her schill;\n",
            "Let's marry her old abov\n"
          ]
        }
      ]
    }
  ],
  "metadata": {
    "accelerator": "GPU",
    "colab": {
      "name": "RNN PLAY GENERATOR.ipynb",
      "provenance": [],
      "collapsed_sections": [
        "BrFJ4kfOZSRl",
        "OB1a2269ZZk4"
      ],
      "authorship_tag": "ABX9TyNjDXsOdHhyYECtCYZ3Cnx9",
      "include_colab_link": true
    },
    "gpuClass": "standard",
    "kernelspec": {
      "display_name": "Python 3",
      "name": "python3"
    },
    "language_info": {
      "name": "python"
    }
  },
  "nbformat": 4,
  "nbformat_minor": 0
}